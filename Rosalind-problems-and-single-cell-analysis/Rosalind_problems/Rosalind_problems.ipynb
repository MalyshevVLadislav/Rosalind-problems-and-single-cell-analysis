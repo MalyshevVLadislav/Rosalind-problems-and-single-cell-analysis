{
 "cells": [
  {
   "cell_type": "markdown",
   "id": "34e3d814-da5d-4db9-b444-bc509d80476d",
   "metadata": {},
   "source": [
    "## Problem 1  \n",
    "A string is simply an ordered collection of symbols selected from some alphabet and formed into a word; the length of a string is the number of symbols that it contains.  \n",
    "An example of a length 21 DNA string (whose alphabet contains the symbols 'A', 'C', 'G', and 'T') is \"ATGCTTCAGAAAGGTCTTACG.\"  \n",
    "  \n",
    "Given: A DNA string s of length at most 1000 nt.  \n",
    "  \n",
    "Return: Four integers (separated by spaces) counting the respective number of times that the symbols 'A', 'C', 'G', and 'T' occur in s.  "
   ]
  },
  {
   "cell_type": "code",
   "execution_count": 2,
   "id": "b0f6850d-6ba2-4bd4-9382-4fadc73b2b0d",
   "metadata": {},
   "outputs": [
    {
     "name": "stdout",
     "output_type": "stream",
     "text": [
      "222 216 242 235\n"
     ]
    }
   ],
   "source": [
    "with open(\"C:\\\\Users\\\\asus\\\\Downloads\\\\rosalind_dna.txt\", 'r', encoding='utf-8') as file:\n",
    "    s = file.read().strip()\n",
    "res = {'A': 0, 'C': 0, 'G': 0, 'T': 0}   #чтобы сделать все за один проход по строке, используем словарь (можно и метод .count(), но это будет 4 прохода по строке)\n",
    "for i in range(len(s)):\n",
    "    res[s[i]] += 1\n",
    "print(*res.values())"
   ]
  },
  {
   "cell_type": "markdown",
   "id": "ce75ebe9-c253-46b9-bc9d-ea51665ba8f9",
   "metadata": {},
   "source": [
    "## Problem 2\n",
    "An RNA string is a string formed from the alphabet containing 'A', 'C', 'G', and 'U'.  \n",
    "Given a DNA string t corresponding to a coding strand, its transcribed RNA string u is formed by replacing all occurrences of 'T' in t with 'U' in u.  \n",
    "  \n",
    "Given: A DNA string t having length at most 1000 nt.  \n",
    "  \n",
    "Return: The transcribed RNA string of t.  "
   ]
  },
  {
   "cell_type": "code",
   "execution_count": 4,
   "id": "5e5190d3-894b-42ef-853c-01a7d8560084",
   "metadata": {},
   "outputs": [
    {
     "name": "stdout",
     "output_type": "stream",
     "text": [
      "GGGUAGCAUCUACCAGUCUCACAGAGUGCCAGAGUGGGUGCUUAAGUUAAGGACGGACGAAAGAAACUAUAGCCUUGCCUCCAGGCGGUUAGCGCCGGUUGUGUGUGCCCCUAAGGGCUGAAGCAUAAAGCAGAUUGAAGCCAACUAUAUCUGAUCUGCCGCACAUGCUGGUUUUAUGCCACUAUGUCCCCCUCCAGACGCAUGAACACCCGAGACGGCCAAUUUUCUUGUAGAGAAGCGUUAGUCCCCUUAUCCCAUUCCAUCCCUGUAGACUAAAGAAAAUGUUUAGCCCUAAUAGCAUUCAAACAAAGGAUCGUUGGCAAUGGGCUCGCGUCCCACUCGAGUAUAACAGCAUGGGGGGUGGCAUCACUGUCAUGAGGCAGCUUAAUCGACGCCAAAGAUUCGAAUCUCCAGUAAAUGAAUGCGCCCAUCAAUAGGGAGGUUACGCGUCUGGCGGGUCUCCGCUAAAAUGACGUCGUUCUUCCAACGCACAACCCCACUGAGUAGCUACUCGACAAACCCGGCUCGCUAACAAGCGUCCAUACGAGCCAAUAUCUCCAGAACGGCAGACGUCCUCUGAAUAUCGCAUAAAACCAGAGUACAAGUUGGAUAGCCUAGGCUGACGCAGUCUCUUAUGCGUAGAACGGUUGUCUUCGUUGUUACCGAGGAACUGGCGCUGUGAACAGGUCACAGAUAUUUUCAGAGUGUUCGCUCUAAACGUAAGCUUAAUAGAGAAUCCUUAGCGCUCCUAUCGCUAUAAACUGAAUCCCAUCAAAGGAACAGUAAUAUUAUAUGAAGCGCGGUCUACUGACACUGGUGGCAGUUUCUAUUAUUAGAUUUCCCAAGACCUGGCAGCGCAAGUUAGGCGAGCGAUUUCACGCCGAUUUGCGCCCUCUCUCUAAGGAACUUGCGAGGGUCGGGGGGACAGCGCUUCCUCUUUUUAUUUCACGG\n"
     ]
    }
   ],
   "source": [
    "with open(\"C:\\\\Users\\\\asus\\\\Downloads\\\\rosalind_rna.txt\", 'r', encoding='utf-8') as file:\n",
    "    s = file.read().strip()\n",
    "for i in range(len(s)):\n",
    "    if s[i] == 'T':\n",
    "        s = s[:i] + 'U' + s[i+1:]\n",
    "print(s)"
   ]
  },
  {
   "cell_type": "markdown",
   "id": "8f322e7e-4126-4d33-a42f-5c521af0331d",
   "metadata": {},
   "source": [
    "## Problem 3\n",
    "In DNA strings, symbols 'A' and 'T' are complements of each other, as are 'C' and 'G'.  \n",
    "The reverse complement of a DNA string s is the string $s^c$ formed by reversing the symbols of s, then taking the complement of each symbol (e.g., the reverse complement of \"GTCA\" is \"TGAC\").  \n",
    "  \n",
    "Given: A DNA string s of length at most 1000 bp.  \n",
    "  \n",
    "Return: The reverse complement $s^c$ of s."
   ]
  },
  {
   "cell_type": "code",
   "execution_count": 6,
   "id": "52f0648a-d794-4629-bf84-7654b06a7265",
   "metadata": {},
   "outputs": [
    {
     "name": "stdout",
     "output_type": "stream",
     "text": [
      "GTTAAAGCGGTTCTGCACCATAGGGCTTTCAGTATGTACGTGGCTCAAGGAAGGCACAGGACCGATATAGGAATTAAGTAAGAAGCGTCCAATCACCTCCAAACCATTAATTGGCCTATCGATGAGTGCTGCATACCGGCGTTGCCATACTCTCCTCATAAGGGGATTGGAACGGATGGTGACTTTATACACCGGTCTTTACTTGAACACGTCGTTAAGGCAAGACTCACCATGAGGAAGCGACCACCGAAGCGCCTTAACCCGGTAGTGCCAATCATGCAGTTTCGCCAAAGAAACAGGGCAAATACAATTCTAAGGGGAAGCCCAACGTTGCTGCGGGTCAGCAGCCGCTATGATGAGGATTCAGGGCATGCAAGAGCTCCACCATGCCGTGTTTCACCCGGGCAGGTGTGTTCTTCCCGCTGCCTGATGGCAGTGGCCCCGACGTCACTCCCCTTGCGAGTGGATCAGCTCCGCCACGAAGGTAGGTGTGATTCGCCGCTATTGCGGGCACGTAGTTGCCACCCTCGAAACGGAAATGTGTGGGCTTAAAGTAAGCTTCTAGATTGTTTCTGGAACTGTCTATAGCCACGGACGGAGCGTCAAGGCTTGAGAAAAGCAGAGGGGCTCACAGGACTGGGAAGGTTATGTTTCCATCGGGGTGTTACATTACATGGTAGAATTATACTTGCGGTACATCAATAAATGTGTTATTGTGTGGAAACATATATGTTAGCACAATTATCGGGTCAAGTATCTCTTTTCAGATGGAGTAACGCCAAGCCAGGGTCATGTATGGCGCGTTGTCGGCCCTTTGGCCTGCTAACAAATAGCGCCCTAGCTACCCTGAGAAGCACATTGCAGCACCTGGGAATTAAGATCTTGGTCAAGATTACTGGCGAGAAGGCATCAGATGCGC\n"
     ]
    }
   ],
   "source": [
    "with open(\"C:\\\\Users\\\\asus\\\\Downloads\\\\rosalind_revc.txt\", 'r', encoding='utf-8') as file:\n",
    "    s = file.read().strip()\n",
    "code = {'A': 'T', 'C': 'G', 'G': 'C', 'T': 'A'}\n",
    "s_c = ''\n",
    "for i in range(len(s)):\n",
    "    s_c += code[s[-i - 1]]\n",
    "print(s_c)"
   ]
  },
  {
   "cell_type": "markdown",
   "id": "023b2ea3-c664-40b2-8517-2f0832dd9df6",
   "metadata": {},
   "source": [
    "## Problem 4\n",
    "A sequence is an ordered collection of objects (usually numbers), which are allowed to repeat. Sequences can be finite or infinite.  \n",
    "Two examples are the finite sequence ($-\\pi$, $-\\sqrt{2}$, 0, $\\pi$) and the infinite sequence of odd numbers (1,3,5,7,9,…). We use the notation $a_n$ to represent the n-th term of a sequence.  \n",
    "A recurrence relation is a way of defining the terms of a sequence with respect to the values of previous terms. In the case of Fibonacci's rabbits from the introduction, any given month will contain the rabbits that were alive the previous month, plus any new offspring. A key observation is that the number of offspring in any month is equal to the number of rabbits that were alive two months prior. As a result, if $F_n$ represents the number of rabbit pairs alive after the n-th month, then we obtain the Fibonacci sequence having terms $F_n$ that are defined by the recurrence relation $F_n=F_{n−1}+F_{n−2}$ (with $F_1=F_2=1$ to initiate the sequence). Although the sequence bears Fibonacci's name, it was known to Indian mathematicians over two millennia ago.   \n",
    "When finding the n-th term of a sequence defined by a recurrence relation, we can simply use the recurrence relation to generate terms for progressively larger values of n. This problem introduces us to the computational technique of dynamic programming, which successively builds up solutions by using the answers to smaller cases.  \n",
    "  \n",
    "Given: Positive integers $n \\leq 40$ and $k \\leq 5$.  \n",
    "  \n",
    "Return: The total number of rabbit pairs that will be present after n months, if we begin with 1 pair and in each generation, every pair of reproduction-age rabbits produces a litter of k rabbit pairs (instead of only 1 pair).  "
   ]
  },
  {
   "cell_type": "code",
   "execution_count": 8,
   "id": "8b3347eb-07f7-4fda-93f7-77d02c926e02",
   "metadata": {},
   "outputs": [
    {
     "name": "stdout",
     "output_type": "stream",
     "text": [
      "436390025825\n"
     ]
    }
   ],
   "source": [
    "with open(\"C:\\\\Users\\\\asus\\\\Downloads\\\\rosalind_fib.txt\", 'r', encoding='utf-8') as file:\n",
    "    s = file.read().strip()\n",
    "n, k = map(int, s.split())\n",
    "res = [1] * n\n",
    "for i in range(2, n):\n",
    "    res[i] = res[i-1] + res[i-2]*k\n",
    "print(res[-1])"
   ]
  },
  {
   "cell_type": "markdown",
   "id": "9c61c62b-ae4d-49dd-a465-94d62ae45461",
   "metadata": {},
   "source": [
    "## Problem 5\n",
    "The GC-content of a DNA string is given by the percentage of symbols in the string that are 'C' or 'G'. For example, the GC-content of \"AGCTATAG\" is 37.5%. Note that the reverse complement of any DNA string has the same GC-content.  \n",
    "DNA strings must be labeled when they are consolidated into a database. A commonly used method of string labeling is called FASTA format. In this format, the string is introduced by a line that begins with '>', followed by some labeling information. Subsequent lines contain the string itself; the first line to begin with '>' indicates the label of the next string.  \n",
    "In Rosalind's implementation, a string in FASTA format will be labeled by the ID \"Rosalind_xxxx\", where \"xxxx\" denotes a four-digit code between 0000 and 9999.  \n",
    "  \n",
    "Given: At most 10 DNA strings in FASTA format (of length at most 1 kbp each).  \n",
    "  \n",
    "Return: The ID of the string having the highest GC-content, followed by the GC-content of that string. Rosalind allows for a default error of 0.001 in all decimal answers unless otherwise stated; please see the note on absolute error below.  "
   ]
  },
  {
   "cell_type": "code",
   "execution_count": 10,
   "id": "dc9da450-6a0f-42d9-8e32-327a49a38b06",
   "metadata": {},
   "outputs": [
    {
     "name": "stdout",
     "output_type": "stream",
     "text": [
      "Rosalind_1856\n",
      "52.21774193548387\n"
     ]
    }
   ],
   "source": [
    "with open(\"C:\\\\Users\\\\asus\\\\Downloads\\\\rosalind_gc.txt\", 'r', encoding='utf-8') as file:\n",
    "    s = file.read().strip()\n",
    "s = s.split('>')\n",
    "d = {}\n",
    "for el in s:\n",
    "    if el != '':\n",
    "        d[el[:13]] = el[13:].replace('\\n', '')\n",
    "for key in d.keys():\n",
    "    x = d[key]\n",
    "    d[key] = (x.count('C') + x.count('G')) * 100 / len(x)\n",
    "sorted_keys = sorted(d, key=d.get, reverse=True)\n",
    "print(sorted_keys[0], d[sorted_keys[0]], sep='\\n')"
   ]
  }
 ],
 "metadata": {
  "kernelspec": {
   "display_name": "Python [conda env:base] *",
   "language": "python",
   "name": "conda-base-py"
  },
  "language_info": {
   "codemirror_mode": {
    "name": "ipython",
    "version": 3
   },
   "file_extension": ".py",
   "mimetype": "text/x-python",
   "name": "python",
   "nbconvert_exporter": "python",
   "pygments_lexer": "ipython3",
   "version": "3.11.5"
  }
 },
 "nbformat": 4,
 "nbformat_minor": 5
}
